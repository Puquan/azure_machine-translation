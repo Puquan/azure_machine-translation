{
 "cells": [
  {
   "cell_type": "markdown",
   "metadata": {
    "graffitiCellId": "id_rxws7f5"
   },
   "source": [
    "# 翻译\n",
    "\n",
    "## 实验目的：\n",
    "- 了解机器翻译的运作流程\n",
    "- 了解循环神经网络\n",
    "- 掌握创建和使用微软翻译服务\n",
    "- 掌握创建和使用微软语音服务\n",
    "- 掌握连接和使用云端端口\n",
    "\n",
    "## 实验内容：\n",
    "- 介绍机器翻译和循环神经网络\n",
    "- 创建翻译服务并使用\n",
    "- 创建语音服务配合翻译服务进行语音翻译"
   ]
  },
  {
   "cell_type": "markdown",
   "metadata": {
    "graffitiCellId": "id_cvyzzai"
   },
   "source": [
    "# <font color='MediumPurple'>背景 </font>\n",
    "##  <font color='RoyalBlue'>1. 机器翻译的介绍 </font>\n",
    "推动人类文明发展的主要动力之一是相互交流的能力。在大多数人类的努力中，沟通是关键。<br>\n",
    "人工智能（AI）可以通过翻译语言之间的文本或语音来帮助简化沟通，帮助消除国家和文化间沟通的障碍。\n",
    "![A multilingual robot](./images/translation.jpg)\n",
    "机器翻译，又称为自动翻译，是利用计算机将一种自然语言(源语言)转换为另一种自然语言(目标语言)的过程。它是计算语言学的一个分支，是人工智能的终极目标之一，具有重要的科学研究价值。<br>\n",
    "同时，机器翻译又具有重要的实用价值。随着经济全球化及互联网的飞速发展，机器翻译技术在促进政治、经济、文化交流等方面起到越来越重要的作用。<br>"
   ]
  },
  {
   "cell_type": "markdown",
   "metadata": {
    "graffitiCellId": "id_tof90zk"
   },
   "source": [
    "##  <font color='RoyalBlue'>1.1 平行文本和语料库 </font>\n",
    "平行文本（parallel text）是与译文并行放置的文本。平行文本对齐 是指确定平行文本中原文和译文的对应句子。<br>\n",
    "**例如：**\n",
    "- 圣经参考书中可能会同时包含原文和译文或者多种译文，以便于比较和研究。\n",
    "- 欧洲议会的笔记，它们被欧盟的所有语言所记录，所以你会看到一句英语，法语，意大利语，德语等等\n",
    "\n",
    "通常我们只需要一对语言，也就是一句翻译成一句。\n",
    "此外我们也有翻译整段文字的场景，一样的，这个时候就是段落的对齐。\n",
    "### 平行文本的大集合被称为平行语料库 "
   ]
  },
  {
   "cell_type": "markdown",
   "metadata": {
    "graffitiCellId": "id_mw3lolg"
   },
   "source": [
    "## <font color='RoyalBlue'>1.2 目前的机器翻译系统 </font>\n",
    "- `源语言`，比如说法语，French\n",
    "- `目标语言`，比如说英语，English\n",
    "- 计算概率公式（使用贝叶斯定理）"
   ]
  },
  {
   "cell_type": "markdown",
   "metadata": {
    "graffitiCellId": "id_mzu1mt5"
   },
   "source": [
    "<img style=\"float: left;\" width = \"450\" height = \"300\" src=./data/translation/notebook/bayes_rule_translation.png>"
   ]
  },
  {
   "cell_type": "markdown",
   "metadata": {
    "graffitiCellId": "id_jzu549t"
   },
   "source": [
    "<img style=\"float: left;\" width = \"450\" height = \"300\" src=./data/translation/notebook/bayes_rule.png>"
   ]
  },
  {
   "cell_type": "markdown",
   "metadata": {
    "graffitiCellId": "id_6y0wow6"
   },
   "source": [
    "- 在平行语料库中训练，翻译模型 `p ( f | e )` \n",
    "- 在英文语料库语言模型 `p ( e )`\n",
    "<img style=\"float: left;\" width = \"650\" height = \"300\" src=./data/translation/notebook/translation_process.png>"
   ]
  },
  {
   "cell_type": "markdown",
   "metadata": {
    "graffitiCellId": "id_v4vl3f6"
   },
   "source": [
    "### 这里有三个模块:\n",
    "\n",
    "- 第一个是`翻译模型（Translation Model）`，是通过训练平行语料库得到的，就是有一句法语，一句对应的英语。\n",
    "\n",
    "- 第二个是`语言模型（Language Model）`，它只通过英文来训练 ，这是一个随机的语料库，只是需要一个单语言英文的语料库，所以可以是任意的网站、文章、句子、段落。\n",
    "\n",
    "- 第一个模块，会把输入的 `法语（French）` 句子，切割成单词和短语，然后去平行语料库找对应，然后再把它们拼起来。这个过程中，会得到很多候选者，第二个模块中，就用`语言模型（Language Model）`给它们重新打分，把句子变的通顺。\n",
    "\n",
    "- 然后在第三个模块`解码器（Decoder）`中，将两个模块合起来，它会将所有的翻译进行打分，最终返回一个最合理的结果。"
   ]
  },
  {
   "cell_type": "markdown",
   "metadata": {
    "graffitiCellId": "id_uxwy2uc"
   },
   "source": [
    "## <font color='RoyalBlue'>1.3 训练要点和难点 </font>\n",
    "\n",
    "### 1.3.1 翻译模型\n",
    "\n",
    "### 字符没有对齐\n",
    "\n",
    "左边是英文，右边是法文，右边的 Le 是没有对齐翻译的，模型需要识别出来。\n",
    "\n",
    "<img style=\"float: left;\" width = \"650\" height = \"300\" src=./data/translation/notebook/english_french_01.png>"
   ]
  },
  {
   "cell_type": "markdown",
   "metadata": {
    "graffitiCellId": "id_onzdbpg"
   },
   "source": [
    "### 无对应 和 一对多\n",
    "\n",
    "在下面这个例子中，左边的 and 在语料库是没有翻译的，还有一种情况是左边的 implemented 对应着多个翻译。\n",
    "<img style=\"float: left;\" width = \"650\" height = \"300\" src=./data/translation/notebook/english_french_02.png>"
   ]
  },
  {
   "cell_type": "markdown",
   "metadata": {
    "graffitiCellId": "id_btzdwh2"
   },
   "source": [
    "### 多对一\n",
    "<img style=\"float: left;\" width = \"650\" height = \"300\" src=./data/translation/notebook/english_french_03.png>"
   ]
  },
  {
   "cell_type": "markdown",
   "metadata": {
    "graffitiCellId": "id_plfo5cg"
   },
   "source": [
    "### 多对多\n",
    "<img style=\"float: left;\" width = \"650\" height = \"300\" src=./data/translation/notebook/english_french_04.png>"
   ]
  },
  {
   "cell_type": "markdown",
   "metadata": {
    "graffitiCellId": "id_w0s8nq2"
   },
   "source": [
    "### 1.3.2 重新排序\n",
    "通过第一个模块后，假设我们已经给输入的语言找到了最有可能的短语结果，接下来想要根据语法知识形成一个完整的句子的翻译，而不只是单词的对应。\n",
    "<img style=\"float: left;\" width = \"650\" height = \"300\" src=./data/translation/notebook/english_french_05.png>\n",
    "\n",
    "\n",
    "### 1.3.3 选择最佳\n",
    "\n",
    "有非常多的翻译结果，不同的顺序、词语构成的句子。我们要在所有可能的组合中找到最有可能的结果，这是个庞大的搜索任务。\n",
    "<img style=\"float: left;\" width = \"650\" height = \"300\" src=./data/translation/notebook/english_french_06.png>"
   ]
  },
  {
   "cell_type": "markdown",
   "metadata": {
    "graffitiCellId": "id_j1pcvm6"
   },
   "source": [
    "## <font color='RoyalBlue'>1.4 循环神经网络RNN\n",
    "\n",
    "### 1.4.1 RNN(Recurrent Neural Network)循环神经网络作用的领域：\n",
    "- 自然语音处理(NLP)\n",
    "- 语言模型(Language Modeling)\n",
    "- 文本生成 (Generating Text)\n",
    "- 机器翻译(Machine Translation)\n",
    "- 语音识别(Speech Recognition)\n",
    "- 图像描述生成 (Generating Image Descriptions)\n",
    "\n",
    "### 1.4.2 RNN对机器翻译的作用\n",
    "\n",
    "普通的神经网络，比如卷积神经网络CNN，他们都只能单独的处理一个个的输入，前一个输入和后一个的输入是完全没有关系的，即前一次的预测概率和后一次的预测概率是相对独立的。<br>\n",
    "但是，某些任务需要能够更好的处理序列的信息，即前面的输入和后面的输入是有关系的。\n",
    "例如下面这句话：\n",
    "> 当我们在理解一句话意思时，孤立的理解这句话的每个词是不够的，我们需要处理这些词连接起来的整个序列； 当我们处理视频的时候，我们也不能只单独的去分析每一帧，而要分析这些帧连接起来的整个序列\n",
    "\n",
    "以自然语言处理的一个最简单的词性标注任务来说，将“我 吃 苹果 ”三个单词标注词性。\n",
    "\n",
    "那么这个任务的输入就是：\n",
    "\n",
    "> 我 吃 苹果 （已经分词好的句子）\n",
    "\n",
    "这个任务的输出是：\n",
    "\n",
    "> 我（名词） 吃（动词） 苹果（名词）\n",
    "\n",
    "但是很明显，一个句子中，前一个单词其实对于当前单词的`词性`预测是有很大影响的，比如预测`苹果`的时候，由于前面的吃是一个`动词`，那么很显然`苹果`作为`名词`的概率就会远大于`动词`的概率，因为`动词`后面接名词很常见，而`动词`后面接`动词`很少见。\n",
    "\n",
    "同理在进行机器翻译的时候，源语言的单词输入顺序对之后目标语言的翻译结果有着重大的影响。\n",
    "使用RNN可以让神经网络记住这种顺序的输入，从而影响到它的预测结果，提升准确率。\n",
    "\n",
    "### 1.4.3 简单的RNN结构\n",
    "\n",
    "<img style=\"float: left;\" width = \"450\" height = \"300\" src=./data/translation/notebook/rnn.png>\n",
    "\n",
    "  "
   ]
  },
  {
   "cell_type": "markdown",
   "metadata": {
    "graffitiCellId": "id_23swhi2"
   },
   "source": [
    "  \n",
    "如果把上面有W的那个带箭头的圈去掉，它就变成了最普通的全连接神经网络。x是一个向量，它表示输入层的值，s是一个向量，它表示隐藏层的值，循环神经网络的隐藏层的值s不仅仅取决于当前这次的输入x，还取决于上一次隐藏层的值s。权重矩阵 W就是隐藏层上一次的值作为这一次的输入的权重。"
   ]
  },
  {
   "cell_type": "markdown",
   "metadata": {
    "graffitiCellId": "id_v0jpyf1"
   },
   "source": [
    "# <font color='RoyalBlue'>2. 调用云端端口进行翻译 </font>"
   ]
  },
  {
   "cell_type": "markdown",
   "metadata": {
    "graffitiCellId": "id_qy3a3fx"
   },
   "source": [
    "## 2.1 创建翻译服务资源\n",
    "\n",
    "在 Azure 中，可以使用认知服务在多种语言之间进行翻译。\n",
    "\n",
    "1. 在另一个浏览器选项卡中，打开 Azure 门户，网址为 [https://portal.azure.cn/#create/Microsoft.CognitiveServicesTextTranslation](https://portal.azure.cn/#create/Microsoft.CognitiveServicesTextTranslation) ，使用 Azure 帐户登录。\n",
    "\n",
    "2. 设置参数\n",
    "    - **名称**： *输入唯一名称*。\n",
    "    - **订阅**： *您的 Azure 订阅*。\n",
    "    - **位置**： *任何可用位置*。\n",
    "    - **定价层**： s0 或者 f0 或者 s1\n",
    "    - **资源组**： *创建具有唯一名称的资源组*。\n",
    "<img style=\"float: left;\" width = \"850\" height = \"300\" src=./data/translation/notebook/01.png>"
   ]
  },
  {
   "cell_type": "markdown",
   "metadata": {
    "graffitiCellId": "id_qb7cbni"
   },
   "source": [
    "3. 等待部署完成。点击 **转到资源**，然后转到您的认知服务资源。\n",
    "<img style=\"float: left;\" width = \"850\" height = \"300\" src=./data/translation/notebook/02.png>"
   ]
  },
  {
   "cell_type": "markdown",
   "metadata": {
    "graffitiCellId": "id_aykc056"
   },
   "source": [
    "## 2.2 获取翻译服务资源的密钥和终结点\n",
    "\n",
    "要使用翻译服务资源，客户端应用程序需要其终结点和身份验证密钥：\n",
    "\n",
    "### <font color = 'red'>下面步骤请注意 </font>\n",
    "1. 在 Azure 门户中，在服务资源的 **密钥和终结点**  页面上，复制资源中的 **密钥1** 并将其粘贴到下面的代码中，替换 `cog_key` 。\n",
    "2. 复制资源中的 **终结点**并将其粘贴到下面的代码中，替换 `cog_endpoint`，并且把sts/v1.0删除，cognitiveservices改成translator。例如：`https://02cnew.cognitiveservices.azure.cn/sts/v1.0` 改成\n",
    "`https://02cnew.translator.azure.cn/`\n",
    "3. 复制 \"位置\"， 然后将其粘贴到下面的代码中， 替换 `cog_region` 。\n",
    "4. 在下面的单元格中运行代码。\n",
    "<img style=\"float: left;\" width = \"850\" height = \"300\" src=./data/translation/notebook/03.png>"
   ]
  },
  {
   "cell_type": "markdown",
   "metadata": {
    "graffitiCellId": "id_pr06oiy"
   },
   "source": [
    "<span class=\"graffiti-highlight graffiti-id_pr06oiy-id_pscbc5q\"><i></i><button><img src=\"https://gitee.com/wenjian89/ai-edu/raw/master/icon-loudspeaker.jpeg\" alt=\"点击查看解析\" style=\"width: 20px; \" align=\"right\"/></button></span>"
   ]
  },
  {
   "cell_type": "code",
   "execution_count": null,
   "metadata": {
    "gather": {
     "logged": 1599695377020
    },
    "graffitiCellId": "id_xmi5g1d"
   },
   "outputs": [],
   "source": [
    "cog_key = '你的密钥1'  # 密钥1\n",
    "cog_endpoint = '你的终结点' # 终结点\n",
    "cog_region = '你的位置'  # 位置"
   ]
  },
  {
   "cell_type": "markdown",
   "metadata": {
    "gather": {
     "logged": 1599695377020
    },
    "graffitiCellId": "id_864z0ym"
   },
   "source": [
    "<p hidden>\n",
    "cog_key = '860c4be5d4294e639ccd98c26c3078ed'  # 密钥1\n",
    "cog_endpoint = 'https://02cnew.translator.azure.cn/' # 终结点\n",
    "cog_region = 'chinanorth'  # 位置\n",
    "</p>"
   ]
  },
  {
   "cell_type": "markdown",
   "metadata": {
    "graffitiCellId": "id_5y9p03v"
   },
   "source": [
    "## 2.3 翻译文本  <span class=\"graffiti-highlight graffiti-id_5y9p03v-id_f7i260o\"><i></i><button><img src=\"https://gitee.com/wenjian89/ai-edu/raw/master/icon-loudspeaker.jpeg\" alt=\"点击查看解析\" style=\"width: 20px; \" align=\"right\"/></button></span>\n",
    "\n",
    "正如它的名字，**翻译文本**服务使您能够将文本从一种语言翻译成另一种语言。\n",
    "\n",
    "此服务没有 Python SDK，但您可以使用其 REST 接口通过 HTTP 向终结点提交请求，有关要翻译的文本和结果翻译的文本的信息以 JSON 格式交换。"
   ]
  },
  {
   "cell_type": "markdown",
   "metadata": {
    "graffitiCellId": "id_jsv0j5q"
   },
   "source": [
    "### 让我们先来调用一次云端翻译服务，看看使用从`中文`到`英文`的简单翻译。"
   ]
  },
  {
   "cell_type": "code",
   "execution_count": null,
   "metadata": {
    "graffitiCellId": "id_e0kypsg"
   },
   "outputs": [],
   "source": [
    "import requests # 能够获取网址信息HTTP的库\n",
    "import uuid # 通用唯一识别码(Universally Unique Identifier)，让信息具有唯一的标识\n",
    "import json # 使用 json 数据交换格式  \n",
    "\n",
    "\n",
    "to_lang= 'en'  # 设置目标语言为英语\n",
    "from_lang = 'zh'# 设置源语言为中文\n",
    "phrase = '你好'   # 需要翻译的短语为‘你好’\n",
    "\n",
    "# 构建云端的http api接口\n",
    "path = 'https://api.translator.azure.cn/translate?api-version=3.0' \n",
    "params = '&from={}&to={}'.format(from_lang, to_lang)\n",
    "constructed_url = path + params\n",
    "\n",
    "# 使用翻译资源并配置密钥和位置\n",
    "headers = {\n",
    "    'Ocp-Apim-Subscription-Key': cog_key,\n",
    "    'Ocp-Apim-Subscription-Region':cog_region,\n",
    "    'Content-type': 'application/json',\n",
    "    'X-ClientTraceId': str(uuid.uuid4())\n",
    "}\n",
    "\n",
    "# 将要翻译的文本添加到正文\n",
    "body = [{\n",
    "    'text': phrase\n",
    "}]\n",
    "\n",
    "# 得到翻译\n",
    "request = requests.post(constructed_url, headers=headers, json=body)\n",
    "response = request.json()\n",
    "\n",
    "\n",
    "# 展示json格式的翻译结果\n",
    "print(response)"
   ]
  },
  {
   "cell_type": "markdown",
   "metadata": {
    "graffitiCellId": "id_xqk65oe"
   },
   "source": [
    "### 提取json数据格式中的翻译结果 <span class=\"graffiti-highlight graffiti-id_xqk65oe-id_1vyr29p\"><i></i><button><img src=\"https://gitee.com/wenjian89/ai-edu/raw/master/icon-loudspeaker.jpeg\" alt=\"点击查看解析\" style=\"width: 20px; \" align=\"right\"/></button></span>\n",
    "json格式中的数据是`列表（list）`和`字典（dictionary）`互相夹杂着的，我们需要层层抽丝剥茧，才能提取出我们真正想要的翻译结果"
   ]
  },
  {
   "cell_type": "code",
   "execution_count": null,
   "metadata": {
    "graffitiCellId": "id_o689o4v"
   },
   "outputs": [],
   "source": [
    "print(response[0]) # 第一层是一个list，提取位置0的数据是一个dictionary"
   ]
  },
  {
   "cell_type": "code",
   "execution_count": null,
   "metadata": {
    "graffitiCellId": "id_9bjg2na"
   },
   "outputs": [],
   "source": [
    "print(response[0].keys()) # 第二层是一个dictionary，让我们看看它有什么key\n",
    "print(response[0]['translations']) # 使用key提取信息"
   ]
  },
  {
   "cell_type": "code",
   "execution_count": null,
   "metadata": {
    "graffitiCellId": "id_8hk17h9"
   },
   "outputs": [],
   "source": [
    "print(response[0]['translations'][0]) # 这一层又是一个list，提取位置0的数据是一个dictionary\n",
    "print(response[0]['translations'][0].keys()) # 再看看这一层有哪些key"
   ]
  },
  {
   "cell_type": "code",
   "execution_count": null,
   "metadata": {
    "graffitiCellId": "id_u0booax"
   },
   "outputs": [],
   "source": [
    "print(response[0]['translations'][0]['text']) # 得到最终翻译结果"
   ]
  },
  {
   "cell_type": "markdown",
   "metadata": {
    "graffitiCellId": "id_q2w1ny1"
   },
   "source": [
    "## <font color=\"red\">根据要求补全下方代码 <span class=\"graffiti-highlight graffiti-id_q2w1ny1-id_07dqa6v\"><i></i><button><img src=\"https://gitee.com/wenjian89/ai-edu/raw/master/icon-loudspeaker.jpeg\" alt=\"点击查看解析\" style=\"width: 20px; \" align=\"right\"/></button></span>\n",
    "函数名为`translate_text(cog_region, cog_key, text, to_lang, from_lang)`\n",
    "> 参数和性质：\n",
    "  - `cog_region`： 字符串类型，来自云端资源的位置。\n",
    "  - `cog_key`：字符串类型，来自云端资源的密钥1。\n",
    "  - `text`：字符串类型，想要翻译的文本。\n",
    "  - `to_lang`：字符串类型，目标语言的语言代码。例如：`'en'`。\n",
    "  - `from_lang`：字符串类型，目标语言的语言代码。例如：`'zh'。\n",
    "  - `return`: 字符串类型，翻译的结果"
   ]
  },
  {
   "cell_type": "code",
   "execution_count": null,
   "metadata": {
    "gather": {
     "logged": 1599695393341
    },
    "graffitiCellId": "id_abga6w8"
   },
   "outputs": [],
   "source": [
    "import requests \n",
    "import uuid \n",
    "import json \n",
    "\n",
    "# 你要创建的函数，你只需要修改或者补全里面的代码\n",
    "def translate_text(cog_region, cog_key, text, to_lang, from_lang):\n",
    "    \n",
    "\n",
    "    # 构建云端的http api接口\n",
    "    \n",
    "\n",
    "    # 使用翻译资源并配置密钥和位置\n",
    "    \n",
    "\n",
    "    # 将要翻译的文本添加到正文\n",
    "    \n",
    "    # 得到翻译\n",
    "    \n",
    "    \n",
    "    # 返回翻译文本\n",
    "    "
   ]
  },
  {
   "cell_type": "code",
   "execution_count": null,
   "metadata": {
    "gather": {
     "logged": 1599695393341
    },
    "graffitiCellId": "id_lr6qafp"
   },
   "outputs": [],
   "source": [
    "# 测试函数\n",
    "text_to_translate = \"你好\"      # 你可以修改此处来测试不同的翻译\n",
    "\n",
    "translation = translate_text(cog_region, cog_key, text_to_translate, to_lang='en', from_lang='zh')\n",
    "print('{} -> {}'.format(text_to_translate,translation))"
   ]
  },
  {
   "cell_type": "markdown",
   "metadata": {
    "graffitiCellId": "id_u3r9rhx"
   },
   "source": [
    "该服务应将中文文本\"你好\"翻译成英文\"Hello\"。\n",
    "\n",
    "><font color='red'>注意:</font><br>语言是通过使用标准语言缩写系统指定的，汉语为 `zh`，英语为 `en`。您还可以使用包含特定区域性的缩写，当同一语言在不同的地理区域使用时（通常具有不同的拼写）非常有用。<br>例如:`zh-CN` 表示大陆中文，而 `zh-TW` 表示台湾中文。<br>\n",
    "下面的网址有各个语言的代码名称：<br>\n",
    "https://docs.microsoft.com/zh-cn/azure/cognitive-services/speech-service/language-support"
   ]
  },
  {
   "cell_type": "markdown",
   "metadata": {
    "graffitiCellId": "id_6vn6vvu"
   },
   "source": [
    "### 运行以下单元格在各个中文版本之间进行翻译。"
   ]
  },
  {
   "cell_type": "code",
   "execution_count": null,
   "metadata": {
    "gather": {
     "logged": 1599695400335
    },
    "graffitiCellId": "id_d92si2s"
   },
   "outputs": [],
   "source": [
    "# 从大陆中文翻译到台湾中文\n",
    "text_to_translate = \"网络\"\n",
    "translation = translate_text(cog_region, cog_key, text_to_translate, to_lang='zh-TW', from_lang='zh-CN')\n",
    "print('{} -> {}'.format(text_to_translate,translation))\n",
    "\n",
    "# 从大陆中文翻译到香港繁体中文（粤语）\n",
    "text_to_translate = '网络'\n",
    "translation = translate_text(cog_region, cog_key, text_to_translate, to_lang='zh-HK', from_lang='zh-CN')\n",
    "print('{} -> {}'.format(text_to_translate,translation))\n"
   ]
  },
  {
   "cell_type": "markdown",
   "metadata": {
    "graffitiCellId": "id_1o4xkzn"
   },
   "source": [
    "### 让我们试试另一个翻译 - 这次从中文到日文。"
   ]
  },
  {
   "cell_type": "code",
   "execution_count": null,
   "metadata": {
    "gather": {
     "logged": 1599695403076
    },
    "graffitiCellId": "id_ev6x5i5"
   },
   "outputs": [],
   "source": [
    "text_to_translate = '让我们试试另一个翻译'\n",
    "translation = translate_text(cog_region, cog_key, text_to_translate, to_lang='ja-JP', from_lang='zh-CN')\n",
    "print('{} -> {}'.format(text_to_translate,translation))"
   ]
  },
  {
   "cell_type": "markdown",
   "metadata": {
    "graffitiCellId": "id_m45rkho"
   },
   "source": [
    "## <font color=\"red\">自由练习 <span class=\"graffiti-highlight graffiti-id_m45rkho-id_9tnp380\"><i></i><button><img src=\"https://gitee.com/wenjian89/ai-edu/raw/master/icon-loudspeaker.jpeg\" alt=\"点击查看解析\" style=\"width: 20px; \" align=\"right\"/></button></span>"
   ]
  },
  {
   "cell_type": "markdown",
   "metadata": {
    "graffitiCellId": "id_wjb2jra"
   },
   "source": [
    "- 1.尝试修改下面单元格，可以让程序自动翻译用户的输入。<br>\n",
    "提示: 使用　`input()`　函数\n",
    "- 2.根据网址：https://docs.microsoft.com/zh-cn/azure/cognitive-services/speech-service/language-support <br>\n",
    "使程序能够从中文翻译成：`法语`、`韩语`、`意大利语`。"
   ]
  },
  {
   "cell_type": "code",
   "execution_count": null,
   "metadata": {
    "graffitiCellId": "id_g2lccoc"
   },
   "outputs": [],
   "source": [
    "text_to_translate = ??\n",
    "translation = translate_text(cog_region, cog_key, text_to_translate, to_lang= ?? , from_lang='zh-CN')\n",
    "print('{} -> {}'.format(text_to_translate,translation))"
   ]
  },
  {
   "cell_type": "markdown",
   "metadata": {
    "graffitiCellId": "id_rxfnxs4"
   },
   "source": [
    "\n",
    "\n",
    "# <font color='royalblue'> 3. 语音翻译 </font>\n",
    "\n",
    "您可以使用 `语音` 服务来翻译口语。\n",
    "\n",
    "## <font color='RoyalBlue'>3.1 创建 Azure 资源\n",
    "- 1.若要将语音服务资源（试用层或付费层）添加到 Azure 帐户，请执行以下步骤：<br>\n",
    "使用 Azure 帐户登录到 Azure 门户：网址为 https://portal.azure.cn \n",
    "- 2.选择门户左上角的“创建资源”。 如果未看到“创建资源”，可通过选择屏幕左上角的折叠菜单找到它。\n",
    "<img style=\"float: left;\" width = \"850\" height = \"300\" src=./data/translation/notebook/04.png>"
   ]
  },
  {
   "cell_type": "markdown",
   "metadata": {
    "graffitiCellId": "id_lreqkg5"
   },
   "source": [
    "- 3.在“新建”窗口中的搜索框内键入“语音”，然后按 ENTER。\n",
    "<img style=\"float: left;\" width = \"850\" height = \"300\" src=./data/translation/notebook/05.png>"
   ]
  },
  {
   "cell_type": "markdown",
   "metadata": {
    "graffitiCellId": "id_gguo7y8"
   },
   "source": [
    "- 4.在搜索结果中，选择“语音”。\n",
    "<img style=\"float: left;\" width = \"850\" height = \"300\" src=./data/translation/notebook/06.png>"
   ]
  },
  {
   "cell_type": "markdown",
   "metadata": {
    "graffitiCellId": "id_niq0qhg"
   },
   "source": [
    "- 5.设置参数\n",
    "    - **名称**： *输入唯一名称*。\n",
    "    - **订阅**： *您的 Azure 订阅*。\n",
    "    - **位置**： *任何可用位置*。\n",
    "    - **定价层**： F0\n",
    "    - **资源组**： *创建具有唯一名称的资源组*。\n",
    "<img style=\"float: left;\" width = \"850\" height = \"300\" src=./data/translation/notebook/07.png>"
   ]
  },
  {
   "cell_type": "markdown",
   "metadata": {
    "graffitiCellId": "id_t45ijdh"
   },
   "source": [
    "- 6.等待部署完成。点击 **转到资源**，然后转到您的语音资源。\n",
    "<img style=\"float: left;\" width = \"850\" height = \"300\" src=./data/translation/notebook/08.png>"
   ]
  },
  {
   "cell_type": "markdown",
   "metadata": {
    "graffitiCellId": "id_bwqt5m4"
   },
   "source": [
    "## <font color='RoyalBlue'>3.2  获取语音服务资源的密钥和终结点\n",
    "\n",
    "要使用语音服务资源，客户端应用程序需要其终结点和身份验证密钥：\n",
    "### <font color = 'red'>下面步骤请注意 </font>\n",
    "1. 在 Azure 门户中，在语音服务资源的 **密钥和终结点**  页面上，复制资源中的 **密钥1** 并将其粘贴到下面的代码中，替换 `speech_key` 。\n",
    "2. 复制 \"位置\"， 然后将其粘贴到下面的代码中， 替换 `service_region` 。\n",
    "3. 在下面的单元格中运行代码。\n",
    "<img src=./data/translation/notebook/09.png width=\"900\">"
   ]
  },
  {
   "cell_type": "markdown",
   "metadata": {
    "graffitiCellId": "id_64rgtzq"
   },
   "source": [
    "## <font color='RoyalBlue'>3.3 创建语音翻译函数\n",
    "\n",
    "### 语音服务提供 Python SDK，可用于翻译来自麦克风或音频文件的可听见语音输入，让我们安装它吧。"
   ]
  },
  {
   "cell_type": "code",
   "execution_count": null,
   "metadata": {
    "graffitiCellId": "id_nlit527"
   },
   "outputs": [],
   "source": [
    "! pip install azure.cognitiveservices.speech"
   ]
  },
  {
   "cell_type": "markdown",
   "metadata": {
    "graffitiCellId": "id_agst4ub",
    "nteract": {
     "transient": {
      "deleting": false
     }
    }
   },
   "source": [
    "### 现在，您可以运行以下单元格来创建和测试使用语音 SDK 翻译可听语音的函数。\n",
    "\n",
    "><font color = 'red'>注意：</font>您需要扬声器才能听到音频。"
   ]
  },
  {
   "cell_type": "code",
   "execution_count": null,
   "metadata": {
    "graffitiCellId": "id_jkzhkt8"
   },
   "outputs": [],
   "source": [
    "speech_key = '你的密钥1'\n",
    "service_region = '你的位置'"
   ]
  },
  {
   "cell_type": "markdown",
   "metadata": {
    "graffitiCellId": "id_b2nr1lm"
   },
   "source": [
    "<p hidden>\n",
    "speech_key = '3d65d18948074f29a53f57c468a1154c'\n",
    "service_region = 'chinaeast2'\n",
    "</p>"
   ]
  },
  {
   "cell_type": "code",
   "execution_count": null,
   "metadata": {
    "gather": {
     "logged": 1599695532629
    },
    "graffitiCellId": "id_rmcdgmc"
   },
   "outputs": [],
   "source": [
    "# 创建一个函数，将一种语言的音频转换为另一种语言的文本\n",
    "\n",
    "def translate_speech(cog_region, cog_key, audio_file=None, to_lang='fr-FR', from_lang='en-US'):\n",
    "    from azure.cognitiveservices.speech import SpeechConfig, AudioConfig, ResultReason\n",
    "    from azure.cognitiveservices.speech.translation import SpeechTranslationConfig, TranslationRecognizer\n",
    "\n",
    "    # 配置语音翻译服务\n",
    "    translation_config = SpeechTranslationConfig(subscription=speech_key, region=service_region)\n",
    "    translation_config.speech_recognition_language = from_lang\n",
    "    translation_config.add_target_language(to_lang)\n",
    "\n",
    "    # 配置音频输入\n",
    "    if audio_file is None:\n",
    "        audio_config = AudioConfig() # 使用默认输入（麦克风）\n",
    "    else:\n",
    "        audio_config = AudioConfig(filename=audio_file) # 使用文件输入\n",
    "\n",
    "    # 创建翻译识别器并用它来翻译语音输入\n",
    "    recognizer = TranslationRecognizer(translation_config, audio_config)\n",
    "    result = recognizer.recognize_once()\n",
    "\n",
    "    \n",
    "    translation = ''\n",
    "    speech_text = ''\n",
    "    if result.reason == ResultReason.TranslatedSpeech:\n",
    "        speech_text = result.text\n",
    "        translation =  result.translations[to_lang]\n",
    "    elif result.reason == ResultReason.RecognizedSpeech:\n",
    "        speech_text = result.text\n",
    "        translation =  'Unable to translate speech'\n",
    "    else:\n",
    "        translation = 'Unknown'\n",
    "        speech_text = 'Unknown'\n",
    "\n",
    "    # 函数返回翻译内容\n",
    "    return speech_text, translation\n",
    "    \n",
    "\n",
    "# 测试函数\n",
    "import os, IPython\n",
    "\n",
    "file_name = 'english.wav'\n",
    "file_path = os.path.join('data', 'translation', file_name)\n",
    "speech, translated_speech = translate_speech(cog_region, cog_key, file_path, to_lang='zh-Hans', from_lang='en-US')\n",
    "result = '{} -> {}'.format(speech, translated_speech)\n",
    "\n",
    "# 播放音频并展示翻译内容\n",
    "IPython.display.display(IPython.display.Audio(file_path, autoplay=True),\n",
    "                        IPython.display.HTML(result))\n"
   ]
  },
  {
   "cell_type": "markdown",
   "metadata": {
    "graffitiCellId": "id_jq5p2ae"
   },
   "source": [
    "`to_lang` 语言代码必须来自:<br>\n",
    "https://docs.microsoft.com/zh-cn/azure/cognitive-services/speech-service/language-support#speech-translation <br> `from_lang` 语言代码必须来自：<br>\n",
    "https://docs.microsoft.com/zh-cn/azure/cognitive-services/speech-service/language-support\n",
    "\n",
    "### 让我们试着从法语翻译成中文。"
   ]
  },
  {
   "cell_type": "code",
   "execution_count": null,
   "metadata": {
    "gather": {
     "logged": 1599695542192
    },
    "graffitiCellId": "id_rbjvslm"
   },
   "outputs": [],
   "source": [
    "import os # 获取标准库\n",
    "import IPython # 获取Ipython库\n",
    "\n",
    "file_name = 'french.wav'\n",
    "file_path = os.path.join('data', 'translation', file_name)\n",
    "speech, translated_speech = translate_speech(cog_region, cog_key, file_path, to_lang='zh-Hans', from_lang='fr-FR')\n",
    "result = '{} -> {}'.format(speech, translated_speech)\n",
    "\n",
    "# 播放音频并展示翻译内容\n",
    "IPython.display.display(IPython.display.Audio(file_path, autoplay=False),\n",
    "                        IPython.display.HTML(result))"
   ]
  },
  {
   "cell_type": "markdown",
   "metadata": {
    "graffitiCellId": "id_wf2824g"
   },
   "source": [
    "# <font color=\"red\">自由练习 <span class=\"graffiti-highlight graffiti-id_wf2824g-id_f4retyr\"><i></i><button><img src=\"https://gitee.com/wenjian89/ai-edu/raw/master/icon-loudspeaker.jpeg\" alt=\"点击查看解析\" style=\"width: 20px; \" align=\"right\"/></button></span>"
   ]
  },
  {
   "cell_type": "markdown",
   "metadata": {
    "graffitiCellId": "id_n821e0e"
   },
   "source": [
    "### 尝试修改下面的单元格，并得到正确的简体中文翻译(`zh-Hans`)\n",
    "- **粤语.wav**: `zh-Hk`\n",
    "- **日文.wav**: `ja-JP`\n",
    "- **墨西哥西班牙语.wav**: `es-MX`"
   ]
  },
  {
   "cell_type": "code",
   "execution_count": null,
   "metadata": {
    "graffitiCellId": "id_vof3wss"
   },
   "outputs": [],
   "source": [
    "import os, IPython\n",
    "\n",
    "file_name = ??\n",
    "file_path = os.path.join('data', 'translation', file_name)\n",
    "speech, translated_speech = translate_speech(cog_region, cog_key, file_path, to_lang= ?? , from_lang= ?? )\n",
    "result = '{} -> {}'.format(speech, translated_speech)\n",
    "\n",
    "# 播放音频并展示翻译内容\n",
    "IPython.display.display(IPython.display.Audio(file_path, autoplay=False),\n",
    "                        IPython.display.HTML(result))"
   ]
  },
  {
   "cell_type": "markdown",
   "metadata": {
    "graffitiCellId": "id_ccyo8aq"
   },
   "source": [
    "### 自定义语音翻译\n",
    "\n",
    "\n",
    "><font color='red'>注意：</font>使用该网址进行音频文件格式的在线转换（转化为`wav`格式）：https://online-audio-converter.com/cn/\n",
    "上传自定义语音文件，到该文件的同文件下的 `data/translation` 下，让翻译识别器识别你的语音并翻译成你想要的语言。\n",
    "<br>可以自己尝试使用英语或者其他语言，或尝试翻译到多种其他语言\n",
    "- `to_lang` 语言代码必须来自:<br>\n",
    "https://docs.microsoft.com/zh-cn/azure/cognitive-services/speech-service/language-support#speech-translation <br>\n",
    "- `from_lang` 语言代码必须来自：<br>\n",
    "https://docs.microsoft.com/zh-cn/azure/cognitive-services/speech-service/language-support\n"
   ]
  },
  {
   "cell_type": "code",
   "execution_count": null,
   "metadata": {
    "graffitiCellId": "id_ms1zbdh"
   },
   "outputs": [],
   "source": [
    "import os, IPython\n",
    "\n",
    "file_name = ??\n",
    "file_path = os.path.join('data', 'translation', file_name)\n",
    "speech, translated_speech = translate_speech(cog_region, cog_key, file_path, to_lang= ?? , from_lang= ?? )\n",
    "result = '{} -> {}'.format(speech, translated_speech)\n",
    "\n",
    "# 播放音频并展示翻译内容\n",
    "IPython.display.display(IPython.display.Audio(file_path, autoplay=False),\n",
    "                        IPython.display.HTML(result))"
   ]
  },
  {
   "cell_type": "markdown",
   "metadata": {
    "graffitiCellId": "id_izara9z"
   },
   "source": [
    "# 了解更多\n",
    "\n",
    "您可以在服务文档中了解有关[翻译文本功能](https://docs.azure.cn/zh-cn/cognitive-services/translator/) 和 [语言服务功能](https://docs.azure.cn/zh-cn/cognitive-services/speech-service/)。"
   ]
  },
  {
   "cell_type": "code",
   "execution_count": null,
   "metadata": {
    "graffitiCellId": "id_6bex86y"
   },
   "outputs": [],
   "source": []
  }
 ],
 "metadata": {
  "graffiti": {
   "firstAuthorId": "dev",
   "id": "id_nn7cjt2",
   "language": "CN"
  },
  "kernel_info": {
   "name": "python3-azureml"
  },
  "kernelspec": {
   "display_name": "Python 3",
   "language": "python",
   "name": "python3"
  },
  "language_info": {
   "codemirror_mode": {
    "name": "ipython",
    "version": 3
   },
   "file_extension": ".py",
   "mimetype": "text/x-python",
   "name": "python",
   "nbconvert_exporter": "python",
   "pygments_lexer": "ipython3",
   "version": "3.7.3"
  },
  "nteract": {
   "version": "nteract-front-end@1.0.0"
  }
 },
 "nbformat": 4,
 "nbformat_minor": 2
}
